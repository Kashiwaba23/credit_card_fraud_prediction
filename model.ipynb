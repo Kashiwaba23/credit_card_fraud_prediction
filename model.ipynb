{
 "cells": [
  {
   "cell_type": "code",
   "execution_count": 1,
   "metadata": {},
   "outputs": [],
   "source": [
    "import pandas as pd\n",
    "import numpy as np\n",
    "import matplotlib.pyplot as plt\n",
    "import seaborn as sns\n",
    "from sklearn.preprocessing import OneHotEncoder, MinMaxScaler, RobustScaler\n",
    "from sklearn.compose import make_column_selector, make_column_transformer\n",
    "from sklearn.model_selection import train_test_split\n",
    "import torch\n",
    "import torch.nn as nn\n",
    "import torch.optim as optim\n",
    "from torch.utils.data import Dataset, DataLoader\n",
    "%matplotlib inline"
   ]
  },
  {
   "cell_type": "markdown",
   "metadata": {},
   "source": [
    "# Loading the Data"
   ]
  },
  {
   "cell_type": "code",
   "execution_count": 24,
   "metadata": {},
   "outputs": [
    {
     "data": {
      "text/html": [
       "<div>\n",
       "<style scoped>\n",
       "    .dataframe tbody tr th:only-of-type {\n",
       "        vertical-align: middle;\n",
       "    }\n",
       "\n",
       "    .dataframe tbody tr th {\n",
       "        vertical-align: top;\n",
       "    }\n",
       "\n",
       "    .dataframe thead th {\n",
       "        text-align: right;\n",
       "    }\n",
       "</style>\n",
       "<table border=\"1\" class=\"dataframe\">\n",
       "  <thead>\n",
       "    <tr style=\"text-align: right;\">\n",
       "      <th></th>\n",
       "      <th>category</th>\n",
       "      <th>amt</th>\n",
       "      <th>gender</th>\n",
       "      <th>lat</th>\n",
       "      <th>long</th>\n",
       "      <th>city_pop</th>\n",
       "      <th>merch_lat</th>\n",
       "      <th>merch_long</th>\n",
       "      <th>is_fraud</th>\n",
       "      <th>customer_age</th>\n",
       "    </tr>\n",
       "  </thead>\n",
       "  <tbody>\n",
       "    <tr>\n",
       "      <th>0</th>\n",
       "      <td>personal_care</td>\n",
       "      <td>2.86</td>\n",
       "      <td>M</td>\n",
       "      <td>33.9659</td>\n",
       "      <td>-80.9355</td>\n",
       "      <td>333497</td>\n",
       "      <td>33.986391</td>\n",
       "      <td>-81.200714</td>\n",
       "      <td>0</td>\n",
       "      <td>52.0</td>\n",
       "    </tr>\n",
       "    <tr>\n",
       "      <th>1</th>\n",
       "      <td>personal_care</td>\n",
       "      <td>29.84</td>\n",
       "      <td>F</td>\n",
       "      <td>40.3207</td>\n",
       "      <td>-110.4360</td>\n",
       "      <td>302</td>\n",
       "      <td>39.450498</td>\n",
       "      <td>-109.960431</td>\n",
       "      <td>0</td>\n",
       "      <td>30.0</td>\n",
       "    </tr>\n",
       "  </tbody>\n",
       "</table>\n",
       "</div>"
      ],
      "text/plain": [
       "        category    amt gender      lat      long  city_pop  merch_lat  \\\n",
       "0  personal_care   2.86      M  33.9659  -80.9355    333497  33.986391   \n",
       "1  personal_care  29.84      F  40.3207 -110.4360       302  39.450498   \n",
       "\n",
       "   merch_long  is_fraud  customer_age  \n",
       "0  -81.200714         0          52.0  \n",
       "1 -109.960431         0          30.0  "
      ]
     },
     "execution_count": 24,
     "metadata": {},
     "output_type": "execute_result"
    }
   ],
   "source": [
    "data = pd.read_csv('processed_data/fraud_data_processed.csv', index_col=0)\n",
    "data.head(2)"
   ]
  },
  {
   "cell_type": "code",
   "execution_count": 13,
   "metadata": {},
   "outputs": [
    {
     "data": {
      "text/plain": [
       "category         object\n",
       "amt             float64\n",
       "gender           object\n",
       "lat             float64\n",
       "long            float64\n",
       "city_pop          int64\n",
       "merch_lat       float64\n",
       "merch_long      float64\n",
       "is_fraud          int64\n",
       "customer_age    float64\n",
       "dtype: object"
      ]
     },
     "execution_count": 13,
     "metadata": {},
     "output_type": "execute_result"
    }
   ],
   "source": [
    "data.dtypes"
   ]
  },
  {
   "cell_type": "code",
   "execution_count": 14,
   "metadata": {},
   "outputs": [
    {
     "data": {
      "text/plain": [
       "(array([1, 2, 3, 4, 5, 6, 7, 8]),\n",
       " [Text(1, 0, 'amt'),\n",
       "  Text(2, 0, 'lat'),\n",
       "  Text(3, 0, 'long'),\n",
       "  Text(4, 0, 'city_pop'),\n",
       "  Text(5, 0, 'merch_lat'),\n",
       "  Text(6, 0, 'merch_long'),\n",
       "  Text(7, 0, 'is_fraud'),\n",
       "  Text(8, 0, 'customer_age')])"
      ]
     },
     "execution_count": 14,
     "metadata": {},
     "output_type": "execute_result"
    },
    {
     "data": {
      "image/png": "[encoded data removed]",
      "text/plain": [
       "<Figure size 640x480 with 1 Axes>"
      ]
     },
     "metadata": {},
     "output_type": "display_data"
    }
   ],
   "source": [
    "data.boxplot()\n",
    "plt.xticks(rotation=90)"
   ]
  },
  {
   "cell_type": "code",
   "execution_count": 25,
   "metadata": {},
   "outputs": [
    {
     "data": {
      "text/html": [
       "<style>#sk-container-id-4 {color: black;}#sk-container-id-4 pre{padding: 0;}#sk-container-id-4 div.sk-toggleable {background-color: white;}#sk-container-id-4 label.sk-toggleable__label {cursor: pointer;display: block;width: 100%;margin-bottom: 0;padding: 0.3em;box-sizing: border-box;text-align: center;}#sk-container-id-4 label.sk-toggleable__label-arrow:before {content: \"▸\";float: left;margin-right: 0.25em;color: #696969;}#sk-container-id-4 label.sk-toggleable__label-arrow:hover:before {color: black;}#sk-container-id-4 div.sk-estimator:hover label.sk-toggleable__label-arrow:before {color: black;}#sk-container-id-4 div.sk-toggleable__content {max-height: 0;max-width: 0;overflow: hidden;text-align: left;background-color: #f0f8ff;}#sk-container-id-4 div.sk-toggleable__content pre {margin: 0.2em;color: black;border-radius: 0.25em;background-color: #f0f8ff;}#sk-container-id-4 input.sk-toggleable__control:checked~div.sk-toggleable__content {max-height: 200px;max-width: 100%;overflow: auto;}#sk-container-id-4 input.sk-toggleable__control:checked~label.sk-toggleable__label-arrow:before {content: \"▾\";}#sk-container-id-4 div.sk-estimator input.sk-toggleable__control:checked~label.sk-toggleable__label {background-color: #d4ebff;}#sk-container-id-4 div.sk-label input.sk-toggleable__control:checked~label.sk-toggleable__label {background-color: #d4ebff;}#sk-container-id-4 input.sk-hidden--visually {border: 0;clip: rect(1px 1px 1px 1px);clip: rect(1px, 1px, 1px, 1px);height: 1px;margin: -1px;overflow: hidden;padding: 0;position: absolute;width: 1px;}#sk-container-id-4 div.sk-estimator {font-family: monospace;background-color: #f0f8ff;border: 1px dotted black;border-radius: 0.25em;box-sizing: border-box;margin-bottom: 0.5em;}#sk-container-id-4 div.sk-estimator:hover {background-color: #d4ebff;}#sk-container-id-4 div.sk-parallel-item::after {content: \"\";width: 100%;border-bottom: 1px solid gray;flex-grow: 1;}#sk-container-id-4 div.sk-label:hover label.sk-toggleable__label {background-color: #d4ebff;}#sk-container-id-4 div.sk-serial::before {content: \"\";position: absolute;border-left: 1px solid gray;box-sizing: border-box;top: 0;bottom: 0;left: 50%;z-index: 0;}#sk-container-id-4 div.sk-serial {display: flex;flex-direction: column;align-items: center;background-color: white;padding-right: 0.2em;padding-left: 0.2em;position: relative;}#sk-container-id-4 div.sk-item {position: relative;z-index: 1;}#sk-container-id-4 div.sk-parallel {display: flex;align-items: stretch;justify-content: center;background-color: white;position: relative;}#sk-container-id-4 div.sk-item::before, #sk-container-id-4 div.sk-parallel-item::before {content: \"\";position: absolute;border-left: 1px solid gray;box-sizing: border-box;top: 0;bottom: 0;left: 50%;z-index: -1;}#sk-container-id-4 div.sk-parallel-item {display: flex;flex-direction: column;z-index: 1;position: relative;background-color: white;}#sk-container-id-4 div.sk-parallel-item:first-child::after {align-self: flex-end;width: 50%;}#sk-container-id-4 div.sk-parallel-item:last-child::after {align-self: flex-start;width: 50%;}#sk-container-id-4 div.sk-parallel-item:only-child::after {width: 0;}#sk-container-id-4 div.sk-dashed-wrapped {border: 1px dashed gray;margin: 0 0.4em 0.5em 0.4em;box-sizing: border-box;padding-bottom: 0.4em;background-color: white;}#sk-container-id-4 div.sk-label label {font-family: monospace;font-weight: bold;display: inline-block;line-height: 1.2em;}#sk-container-id-4 div.sk-label-container {text-align: center;}#sk-container-id-4 div.sk-container {/* jupyter's `normalize.less` sets `[hidden] { display: none; }` but bootstrap.min.css set `[hidden] { display: none !important; }` so we also need the `!important` here to be able to override the default hidden behavior on the sphinx rendered scikit-learn.org. See: https://github.com/scikit-learn/scikit-learn/issues/21755 */display: inline-block !important;position: relative;}#sk-container-id-4 div.sk-text-repr-fallback {display: none;}</style><div id=\"sk-container-id-4\" class=\"sk-top-container\"><div class=\"sk-text-repr-fallback\"><pre>ColumnTransformer(remainder=&#x27;passthrough&#x27;,\n",
       "                  transformers=[(&#x27;robustscaler&#x27;, RobustScaler(), [&#x27;city_pop&#x27;]),\n",
       "                                (&#x27;minmaxscaler&#x27;, MinMaxScaler(),\n",
       "                                 [&#x27;amt&#x27;, &#x27;lat&#x27;, &#x27;long&#x27;, &#x27;merch_lat&#x27;,\n",
       "                                  &#x27;merch_long&#x27;, &#x27;customer_age&#x27;]),\n",
       "                                (&#x27;onehotencoder&#x27;,\n",
       "                                 OneHotEncoder(sparse_output=False),\n",
       "                                 &lt;sklearn.compose._column_transformer.make_column_selector object at 0x2a01f7610&gt;)])</pre><b>In a Jupyter environment, please rerun this cell to show the HTML representation or trust the notebook. <br />On GitHub, the HTML representation is unable to render, please try loading this page with nbviewer.org.</b></div><div class=\"sk-container\" hidden><div class=\"sk-item sk-dashed-wrapped\"><div class=\"sk-label-container\"><div class=\"sk-label sk-toggleable\"><input class=\"sk-toggleable__control sk-hidden--visually\" id=\"sk-estimator-id-28\" type=\"checkbox\" ><label for=\"sk-estimator-id-28\" class=\"sk-toggleable__label sk-toggleable__label-arrow\">ColumnTransformer</label><div class=\"sk-toggleable__content\"><pre>ColumnTransformer(remainder=&#x27;passthrough&#x27;,\n",
       "                  transformers=[(&#x27;robustscaler&#x27;, RobustScaler(), [&#x27;city_pop&#x27;]),\n",
       "                                (&#x27;minmaxscaler&#x27;, MinMaxScaler(),\n",
       "                                 [&#x27;amt&#x27;, &#x27;lat&#x27;, &#x27;long&#x27;, &#x27;merch_lat&#x27;,\n",
       "                                  &#x27;merch_long&#x27;, &#x27;customer_age&#x27;]),\n",
       "                                (&#x27;onehotencoder&#x27;,\n",
       "                                 OneHotEncoder(sparse_output=False),\n",
       "                                 &lt;sklearn.compose._column_transformer.make_column_selector object at 0x2a01f7610&gt;)])</pre></div></div></div><div class=\"sk-parallel\"><div class=\"sk-parallel-item\"><div class=\"sk-item\"><div class=\"sk-label-container\"><div class=\"sk-label sk-toggleable\"><input class=\"sk-toggleable__control sk-hidden--visually\" id=\"sk-estimator-id-29\" type=\"checkbox\" ><label for=\"sk-estimator-id-29\" class=\"sk-toggleable__label sk-toggleable__label-arrow\">robustscaler</label><div class=\"sk-toggleable__content\"><pre>[&#x27;city_pop&#x27;]</pre></div></div></div><div class=\"sk-serial\"><div class=\"sk-item\"><div class=\"sk-estimator sk-toggleable\"><input class=\"sk-toggleable__control sk-hidden--visually\" id=\"sk-estimator-id-30\" type=\"checkbox\" ><label for=\"sk-estimator-id-30\" class=\"sk-toggleable__label sk-toggleable__label-arrow\">RobustScaler</label><div class=\"sk-toggleable__content\"><pre>RobustScaler()</pre></div></div></div></div></div></div><div class=\"sk-parallel-item\"><div class=\"sk-item\"><div class=\"sk-label-container\"><div class=\"sk-label sk-toggleable\"><input class=\"sk-toggleable__control sk-hidden--visually\" id=\"sk-estimator-id-31\" type=\"checkbox\" ><label for=\"sk-estimator-id-31\" class=\"sk-toggleable__label sk-toggleable__label-arrow\">minmaxscaler</label><div class=\"sk-toggleable__content\"><pre>[&#x27;amt&#x27;, &#x27;lat&#x27;, &#x27;long&#x27;, &#x27;merch_lat&#x27;, &#x27;merch_long&#x27;, &#x27;customer_age&#x27;]</pre></div></div></div><div class=\"sk-serial\"><div class=\"sk-item\"><div class=\"sk-estimator sk-toggleable\"><input class=\"sk-toggleable__control sk-hidden--visually\" id=\"sk-estimator-id-32\" type=\"checkbox\" ><label for=\"sk-estimator-id-32\" class=\"sk-toggleable__label sk-toggleable__label-arrow\">MinMaxScaler</label><div class=\"sk-toggleable__content\"><pre>MinMaxScaler()</pre></div></div></div></div></div></div><div class=\"sk-parallel-item\"><div class=\"sk-item\"><div class=\"sk-label-container\"><div class=\"sk-label sk-toggleable\"><input class=\"sk-toggleable__control sk-hidden--visually\" id=\"sk-estimator-id-33\" type=\"checkbox\" ><label for=\"sk-estimator-id-33\" class=\"sk-toggleable__label sk-toggleable__label-arrow\">onehotencoder</label><div class=\"sk-toggleable__content\"><pre>&lt;sklearn.compose._column_transformer.make_column_selector object at 0x2a01f7610&gt;</pre></div></div></div><div class=\"sk-serial\"><div class=\"sk-item\"><div class=\"sk-estimator sk-toggleable\"><input class=\"sk-toggleable__control sk-hidden--visually\" id=\"sk-estimator-id-34\" type=\"checkbox\" ><label for=\"sk-estimator-id-34\" class=\"sk-toggleable__label sk-toggleable__label-arrow\">OneHotEncoder</label><div class=\"sk-toggleable__content\"><pre>OneHotEncoder(sparse_output=False)</pre></div></div></div></div></div></div><div class=\"sk-parallel-item\"><div class=\"sk-item\"><div class=\"sk-label-container\"><div class=\"sk-label sk-toggleable\"><input class=\"sk-toggleable__control sk-hidden--visually\" id=\"sk-estimator-id-35\" type=\"checkbox\" ><label for=\"sk-estimator-id-35\" class=\"sk-toggleable__label sk-toggleable__label-arrow\">remainder</label><div class=\"sk-toggleable__content\"><pre></pre></div></div></div><div class=\"sk-serial\"><div class=\"sk-item\"><div class=\"sk-estimator sk-toggleable\"><input class=\"sk-toggleable__control sk-hidden--visually\" id=\"sk-estimator-id-36\" type=\"checkbox\" ><label for=\"sk-estimator-id-36\" class=\"sk-toggleable__label sk-toggleable__label-arrow\">passthrough</label><div class=\"sk-toggleable__content\"><pre>passthrough</pre></div></div></div></div></div></div></div></div></div></div>"
      ],
      "text/plain": [
       "ColumnTransformer(remainder='passthrough',\n",
       "                  transformers=[('robustscaler', RobustScaler(), ['city_pop']),\n",
       "                                ('minmaxscaler', MinMaxScaler(),\n",
       "                                 ['amt', 'lat', 'long', 'merch_lat',\n",
       "                                  'merch_long', 'customer_age']),\n",
       "                                ('onehotencoder',\n",
       "                                 OneHotEncoder(sparse_output=False),\n",
       "                                 <sklearn.compose._column_transformer.make_column_selector object at 0x2a01f7610>)])"
      ]
     },
     "execution_count": 25,
     "metadata": {},
     "output_type": "execute_result"
    }
   ],
   "source": [
    "no_outliers = ['amt', 'lat', 'long', 'merch_lat', 'merch_long', 'customer_age']\n",
    "\n",
    "preprocessor = make_column_transformer(\n",
    "    (RobustScaler(),['city_pop']),\n",
    "    (MinMaxScaler(), no_outliers),\n",
    "    (OneHotEncoder(sparse_output=False), make_column_selector(dtype_include=['object'])), remainder='passthrough')\n",
    "preprocessor"
   ]
  },
  {
   "cell_type": "code",
   "execution_count": 33,
   "metadata": {},
   "outputs": [
    {
     "name": "stdout",
     "output_type": "stream",
     "text": [
      "(555719, 9)\n",
      "(555719,)\n"
     ]
    }
   ],
   "source": [
    "X = data.drop(columns=['is_fraud'])\n",
    "y = data['is_fraud']\n",
    "print(X.shape)\n",
    "print(y.shape)"
   ]
  },
  {
   "cell_type": "code",
   "execution_count": 34,
   "metadata": {},
   "outputs": [
    {
     "name": "stdout",
     "output_type": "stream",
     "text": [
      "(389003, 9)\n",
      "(389003,)\n"
     ]
    }
   ],
   "source": [
    "X_train, X_test, y_train, y_test = train_test_split(X, y, test_size=0.3)\n",
    "print(X_train.shape)\n",
    "print(y_train.shape)"
   ]
  },
  {
   "cell_type": "code",
   "execution_count": 35,
   "metadata": {},
   "outputs": [],
   "source": [
    "X_train_processed = preprocessor.fit_transform(X_train)"
   ]
  },
  {
   "cell_type": "code",
   "execution_count": 37,
   "metadata": {},
   "outputs": [
    {
     "data": {
      "text/plain": [
       "array([1.05360698, 0.01235203, 0.52707456, 0.97657948, 0.54171846,\n",
       "       0.9692015 , 0.58024691, 0.        , 0.        , 0.        ,\n",
       "       0.        , 0.        , 0.        , 1.        , 0.        ,\n",
       "       0.        , 0.        , 0.        , 0.        , 0.        ,\n",
       "       0.        , 0.        , 1.        ])"
      ]
     },
     "execution_count": 37,
     "metadata": {},
     "output_type": "execute_result"
    }
   ],
   "source": [
    "X_train_processed[0]"
   ]
  },
  {
   "cell_type": "code",
   "execution_count": 38,
   "metadata": {},
   "outputs": [],
   "source": [
    "X_test_processed = preprocessor.transform(X_test)"
   ]
  },
  {
   "cell_type": "code",
   "execution_count": 39,
   "metadata": {},
   "outputs": [
    {
     "name": "stdout",
     "output_type": "stream",
     "text": [
      "<class 'numpy.ndarray'>\n",
      "<class 'pandas.core.series.Series'>\n"
     ]
    }
   ],
   "source": [
    "print(type(X_train_processed))\n",
    "print(type(y_train))"
   ]
  },
  {
   "cell_type": "code",
   "execution_count": 40,
   "metadata": {},
   "outputs": [
    {
     "name": "stdout",
     "output_type": "stream",
     "text": [
      "(389003, 23)\n",
      "(389003,)\n"
     ]
    }
   ],
   "source": [
    "print(X_train_processed.shape)\n",
    "print(y_train.shape)"
   ]
  },
  {
   "cell_type": "code",
   "execution_count": 41,
   "metadata": {},
   "outputs": [],
   "source": [
    "X_train_tensor = torch.tensor(X_train_processed).float()\n",
    "y_train_tensor = torch.tensor(y_train.to_numpy()).float()"
   ]
  },
  {
   "cell_type": "markdown",
   "metadata": {},
   "source": [
    "# Modeling"
   ]
  },
  {
   "cell_type": "code",
   "execution_count": 42,
   "metadata": {},
   "outputs": [],
   "source": [
    "device = 'cuda' if torch.cuda.is_available() else 'cpu'"
   ]
  },
  {
   "cell_type": "code",
   "execution_count": 20,
   "metadata": {},
   "outputs": [],
   "source": [
    "# X_train_processed = torch.tensor(X_train_processed).float().to(device)\n",
    "# y_train_processed = torch.tensor(y_train).float().to(device)"
   ]
  },
  {
   "cell_type": "code",
   "execution_count": 43,
   "metadata": {},
   "outputs": [],
   "source": [
    "class ModelDataset(Dataset):\n",
    "    def __init__(self, x, y):\n",
    "        super().__init__()\n",
    "        self.X = x\n",
    "        self.y = y\n",
    "\n",
    "    def __getitem__(self, idx):\n",
    "        features = self.X[idx]\n",
    "        labels = self.y[idx]\n",
    "        return features, labels\n",
    "\n",
    "    def __len__(self):\n",
    "        return self.X.shape[0]"
   ]
  },
  {
   "cell_type": "code",
   "execution_count": 44,
   "metadata": {},
   "outputs": [],
   "source": [
    "training_ds = ModelDataset(X_train_tensor, y_train_tensor)\n",
    "\n",
    "dataloader_train = DataLoader(training_ds, batch_size=32, shuffle=True)"
   ]
  },
  {
   "cell_type": "code",
   "execution_count": 45,
   "metadata": {},
   "outputs": [],
   "source": [
    "test_ds = ModelDataset(torch.tensor(X_test_processed).float(), torch.tensor(y_test.to_numpy()).float())\n",
    "\n",
    "dataloader_test = DataLoader(test_ds, batch_size=32, shuffle=True)"
   ]
  },
  {
   "cell_type": "code",
   "execution_count": 46,
   "metadata": {},
   "outputs": [
    {
     "name": "stdout",
     "output_type": "stream",
     "text": [
      "Features: tensor([[ 2.6742e-01,  3.0057e-02,  4.6460e-01,  8.5883e-01,  4.7965e-01,\n",
      "          8.4971e-01,  2.0988e-01,  0.0000e+00,  0.0000e+00,  0.0000e+00,\n",
      "          0.0000e+00,  0.0000e+00,  0.0000e+00,  0.0000e+00,  0.0000e+00,\n",
      "          0.0000e+00,  1.0000e+00,  0.0000e+00,  0.0000e+00,  0.0000e+00,\n",
      "          0.0000e+00,  1.0000e+00,  0.0000e+00],\n",
      "        [ 1.4480e+00,  3.0061e-03,  4.4640e-01,  9.3566e-01,  4.2899e-01,\n",
      "          9.2732e-01,  1.4815e-01,  0.0000e+00,  0.0000e+00,  0.0000e+00,\n",
      "          0.0000e+00,  1.0000e+00,  0.0000e+00,  0.0000e+00,  0.0000e+00,\n",
      "          0.0000e+00,  0.0000e+00,  0.0000e+00,  0.0000e+00,  0.0000e+00,\n",
      "          0.0000e+00,  0.0000e+00,  1.0000e+00],\n",
      "        [-1.1594e-01,  1.9067e-03,  4.2500e-01,  8.0087e-01,  4.0859e-01,\n",
      "          7.9984e-01,  4.6914e-01,  0.0000e+00,  0.0000e+00,  0.0000e+00,\n",
      "          0.0000e+00,  0.0000e+00,  0.0000e+00,  1.0000e+00,  0.0000e+00,\n",
      "          0.0000e+00,  0.0000e+00,  0.0000e+00,  0.0000e+00,  0.0000e+00,\n",
      "          0.0000e+00,  0.0000e+00,  1.0000e+00],\n",
      "        [-1.0553e-01,  8.8768e-04,  3.6824e-01,  8.2001e-01,  3.8734e-01,\n",
      "          8.1270e-01,  8.8889e-01,  0.0000e+00,  0.0000e+00,  0.0000e+00,\n",
      "          0.0000e+00,  0.0000e+00,  0.0000e+00,  1.0000e+00,  0.0000e+00,\n",
      "          0.0000e+00,  0.0000e+00,  0.0000e+00,  0.0000e+00,  0.0000e+00,\n",
      "          0.0000e+00,  1.0000e+00,  0.0000e+00],\n",
      "        [ 1.1326e+01,  2.8445e-03,  1.4115e-01,  8.5815e-01,  1.4818e-01,\n",
      "          8.4733e-01,  2.4691e-01,  0.0000e+00,  0.0000e+00,  0.0000e+00,\n",
      "          0.0000e+00,  0.0000e+00,  0.0000e+00,  0.0000e+00,  0.0000e+00,\n",
      "          1.0000e+00,  0.0000e+00,  0.0000e+00,  0.0000e+00,  0.0000e+00,\n",
      "          0.0000e+00,  1.0000e+00,  0.0000e+00],\n",
      "        [-4.0384e-02,  1.1741e-03,  4.6274e-01,  7.9420e-01,  4.4970e-01,\n",
      "          7.9399e-01,  1.8519e-01,  0.0000e+00,  0.0000e+00,  0.0000e+00,\n",
      "          0.0000e+00,  0.0000e+00,  0.0000e+00,  0.0000e+00,  0.0000e+00,\n",
      "          0.0000e+00,  0.0000e+00,  1.0000e+00,  0.0000e+00,  0.0000e+00,\n",
      "          0.0000e+00,  1.0000e+00,  0.0000e+00],\n",
      "        [-1.0905e-01,  4.3923e-06,  6.0897e-01,  7.7388e-01,  6.2338e-01,\n",
      "          7.7212e-01,  4.9383e-02,  0.0000e+00,  0.0000e+00,  0.0000e+00,\n",
      "          0.0000e+00,  0.0000e+00,  0.0000e+00,  0.0000e+00,  0.0000e+00,\n",
      "          0.0000e+00,  0.0000e+00,  1.0000e+00,  0.0000e+00,  0.0000e+00,\n",
      "          0.0000e+00,  0.0000e+00,  1.0000e+00],\n",
      "        [ 5.0391e-02,  2.6512e-03,  3.2065e-01,  8.1295e-01,  3.0937e-01,\n",
      "          8.1093e-01,  3.2099e-01,  0.0000e+00,  0.0000e+00,  0.0000e+00,\n",
      "          0.0000e+00,  1.0000e+00,  0.0000e+00,  0.0000e+00,  0.0000e+00,\n",
      "          0.0000e+00,  0.0000e+00,  0.0000e+00,  0.0000e+00,  0.0000e+00,\n",
      "          0.0000e+00,  0.0000e+00,  1.0000e+00],\n",
      "        [-7.6581e-03,  9.6631e-06,  4.6932e-01,  9.3640e-01,  4.7280e-01,\n",
      "          9.1851e-01,  8.3951e-01,  0.0000e+00,  0.0000e+00,  0.0000e+00,\n",
      "          0.0000e+00,  0.0000e+00,  0.0000e+00,  0.0000e+00,  0.0000e+00,\n",
      "          0.0000e+00,  0.0000e+00,  0.0000e+00,  1.0000e+00,  0.0000e+00,\n",
      "          0.0000e+00,  0.0000e+00,  1.0000e+00],\n",
      "        [ 3.6187e-01,  2.5344e-04,  3.3278e-01,  7.7895e-01,  3.3418e-01,\n",
      "          7.7329e-01,  1.4815e-01,  0.0000e+00,  0.0000e+00,  0.0000e+00,\n",
      "          0.0000e+00,  0.0000e+00,  0.0000e+00,  0.0000e+00,  0.0000e+00,\n",
      "          0.0000e+00,  1.0000e+00,  0.0000e+00,  0.0000e+00,  0.0000e+00,\n",
      "          0.0000e+00,  0.0000e+00,  1.0000e+00],\n",
      "        [ 1.9222e+01,  1.0122e-02,  2.2731e-01,  7.6263e-01,  2.5451e-01,\n",
      "          7.6131e-01,  3.4568e-01,  0.0000e+00,  0.0000e+00,  0.0000e+00,\n",
      "          0.0000e+00,  1.0000e+00,  0.0000e+00,  0.0000e+00,  0.0000e+00,\n",
      "          0.0000e+00,  0.0000e+00,  0.0000e+00,  0.0000e+00,  0.0000e+00,\n",
      "          0.0000e+00,  1.0000e+00,  0.0000e+00],\n",
      "        [ 1.4828e+02,  2.2664e-04,  2.1396e-01,  7.1983e-01,  2.4448e-01,\n",
      "          7.2316e-01,  2.7160e-01,  0.0000e+00,  0.0000e+00,  0.0000e+00,\n",
      "          0.0000e+00,  0.0000e+00,  0.0000e+00,  0.0000e+00,  0.0000e+00,\n",
      "          0.0000e+00,  0.0000e+00,  0.0000e+00,  0.0000e+00,  1.0000e+00,\n",
      "          0.0000e+00,  1.0000e+00,  0.0000e+00],\n",
      "        [ 7.0459e+01,  1.6647e-04,  4.5667e-01,  9.3905e-01,  4.7486e-01,\n",
      "          9.2479e-01,  1.7284e-01,  0.0000e+00,  0.0000e+00,  0.0000e+00,\n",
      "          0.0000e+00,  0.0000e+00,  0.0000e+00,  0.0000e+00,  0.0000e+00,\n",
      "          0.0000e+00,  0.0000e+00,  0.0000e+00,  0.0000e+00,  1.0000e+00,\n",
      "          0.0000e+00,  0.0000e+00,  1.0000e+00],\n",
      "        [-1.2023e-01,  2.2410e-03,  3.2229e-01,  6.4638e-01,  3.4565e-01,\n",
      "          6.4081e-01,  1.6049e-01,  0.0000e+00,  0.0000e+00,  0.0000e+00,\n",
      "          0.0000e+00,  0.0000e+00,  0.0000e+00,  0.0000e+00,  1.0000e+00,\n",
      "          0.0000e+00,  0.0000e+00,  0.0000e+00,  0.0000e+00,  0.0000e+00,\n",
      "          0.0000e+00,  0.0000e+00,  1.0000e+00],\n",
      "        [ 2.6486e+00,  1.8891e-03,  3.0045e-01,  4.9631e-01,  2.9136e-01,\n",
      "          4.9623e-01,  3.9506e-01,  0.0000e+00,  0.0000e+00,  0.0000e+00,\n",
      "          1.0000e+00,  0.0000e+00,  0.0000e+00,  0.0000e+00,  0.0000e+00,\n",
      "          0.0000e+00,  0.0000e+00,  0.0000e+00,  0.0000e+00,  0.0000e+00,\n",
      "          0.0000e+00,  1.0000e+00,  0.0000e+00],\n",
      "        [ 6.5349e-02,  3.3909e-04,  4.5930e-01,  8.9475e-01,  4.7614e-01,\n",
      "          8.7697e-01,  2.2222e-01,  0.0000e+00,  0.0000e+00,  0.0000e+00,\n",
      "          0.0000e+00,  0.0000e+00,  0.0000e+00,  0.0000e+00,  0.0000e+00,\n",
      "          0.0000e+00,  0.0000e+00,  0.0000e+00,  0.0000e+00,  1.0000e+00,\n",
      "          0.0000e+00,  1.0000e+00,  0.0000e+00],\n",
      "        [-5.2331e-02,  3.0175e-03,  3.1607e-01,  7.3676e-01,  3.1959e-01,\n",
      "          7.3974e-01,  4.8148e-01,  0.0000e+00,  0.0000e+00,  0.0000e+00,\n",
      "          0.0000e+00,  0.0000e+00,  0.0000e+00,  0.0000e+00,  1.0000e+00,\n",
      "          0.0000e+00,  0.0000e+00,  0.0000e+00,  0.0000e+00,  0.0000e+00,\n",
      "          0.0000e+00,  0.0000e+00,  1.0000e+00],\n",
      "        [ 1.4311e-01,  2.7803e-04,  5.3480e-01,  7.3931e-01,  5.2953e-01,\n",
      "          7.3564e-01,  2.2222e-01,  0.0000e+00,  0.0000e+00,  0.0000e+00,\n",
      "          0.0000e+00,  0.0000e+00,  0.0000e+00,  0.0000e+00,  0.0000e+00,\n",
      "          1.0000e+00,  0.0000e+00,  0.0000e+00,  0.0000e+00,  0.0000e+00,\n",
      "          0.0000e+00,  0.0000e+00,  1.0000e+00],\n",
      "        [ 1.7803e-01,  8.1398e-03,  5.2076e-01,  9.4742e-01,  5.0393e-01,\n",
      "          9.3683e-01,  3.7037e-01,  0.0000e+00,  0.0000e+00,  0.0000e+00,\n",
      "          0.0000e+00,  1.0000e+00,  0.0000e+00,  0.0000e+00,  0.0000e+00,\n",
      "          0.0000e+00,  0.0000e+00,  0.0000e+00,  0.0000e+00,  0.0000e+00,\n",
      "          0.0000e+00,  1.0000e+00,  0.0000e+00],\n",
      "        [-8.6282e-02,  1.5399e-03,  4.0263e-01,  9.2498e-01,  3.9166e-01,\n",
      "          9.1993e-01,  2.4691e-01,  1.0000e+00,  0.0000e+00,  0.0000e+00,\n",
      "          0.0000e+00,  0.0000e+00,  0.0000e+00,  0.0000e+00,  0.0000e+00,\n",
      "          0.0000e+00,  0.0000e+00,  0.0000e+00,  0.0000e+00,  0.0000e+00,\n",
      "          0.0000e+00,  1.0000e+00,  0.0000e+00],\n",
      "        [ 4.4468e-02,  1.8856e-03,  4.4469e-01,  9.3829e-01,  4.3178e-01,\n",
      "          9.2402e-01,  3.2099e-01,  0.0000e+00,  0.0000e+00,  0.0000e+00,\n",
      "          0.0000e+00,  1.0000e+00,  0.0000e+00,  0.0000e+00,  0.0000e+00,\n",
      "          0.0000e+00,  0.0000e+00,  0.0000e+00,  0.0000e+00,  0.0000e+00,\n",
      "          0.0000e+00,  0.0000e+00,  1.0000e+00],\n",
      "        [ 1.7966e-01,  6.5300e-03,  3.9946e-01,  9.1256e-01,  4.2447e-01,\n",
      "          9.0719e-01,  3.9506e-01,  0.0000e+00,  0.0000e+00,  0.0000e+00,\n",
      "          0.0000e+00,  0.0000e+00,  0.0000e+00,  0.0000e+00,  1.0000e+00,\n",
      "          0.0000e+00,  0.0000e+00,  0.0000e+00,  0.0000e+00,  0.0000e+00,\n",
      "          0.0000e+00,  0.0000e+00,  1.0000e+00],\n",
      "        [ 8.0409e+01,  6.9969e-04,  4.5550e-01,  9.3872e-01,  4.6751e-01,\n",
      "          9.3808e-01,  2.8395e-01,  0.0000e+00,  0.0000e+00,  0.0000e+00,\n",
      "          0.0000e+00,  0.0000e+00,  0.0000e+00,  1.0000e+00,  0.0000e+00,\n",
      "          0.0000e+00,  0.0000e+00,  0.0000e+00,  0.0000e+00,  0.0000e+00,\n",
      "          0.0000e+00,  1.0000e+00,  0.0000e+00],\n",
      "        [-8.4137e-02,  1.1903e-04,  3.6656e-01,  7.3293e-01,  3.7006e-01,\n",
      "          7.3522e-01,  2.4691e-01,  0.0000e+00,  0.0000e+00,  0.0000e+00,\n",
      "          0.0000e+00,  0.0000e+00,  0.0000e+00,  0.0000e+00,  0.0000e+00,\n",
      "          0.0000e+00,  0.0000e+00,  0.0000e+00,  1.0000e+00,  0.0000e+00,\n",
      "          0.0000e+00,  1.0000e+00,  0.0000e+00],\n",
      "        [-4.6153e-02,  2.1219e-03,  4.6401e-01,  7.6425e-01,  4.8297e-01,\n",
      "          7.6090e-01,  1.3580e-01,  0.0000e+00,  0.0000e+00,  0.0000e+00,\n",
      "          0.0000e+00,  0.0000e+00,  0.0000e+00,  0.0000e+00,  1.0000e+00,\n",
      "          0.0000e+00,  0.0000e+00,  0.0000e+00,  0.0000e+00,  0.0000e+00,\n",
      "          0.0000e+00,  0.0000e+00,  1.0000e+00],\n",
      "        [-8.7456e-02,  8.6528e-05,  4.8693e-01,  7.2773e-01,  5.0567e-01,\n",
      "          7.2711e-01,  6.2963e-01,  0.0000e+00,  0.0000e+00,  0.0000e+00,\n",
      "          0.0000e+00,  0.0000e+00,  1.0000e+00,  0.0000e+00,  0.0000e+00,\n",
      "          0.0000e+00,  0.0000e+00,  0.0000e+00,  0.0000e+00,  0.0000e+00,\n",
      "          0.0000e+00,  0.0000e+00,  1.0000e+00],\n",
      "        [ 2.2632e-01,  9.5752e-05,  3.7297e-01,  8.1331e-01,  3.6419e-01,\n",
      "          8.0176e-01,  7.4074e-02,  0.0000e+00,  0.0000e+00,  0.0000e+00,\n",
      "          0.0000e+00,  0.0000e+00,  0.0000e+00,  1.0000e+00,  0.0000e+00,\n",
      "          0.0000e+00,  0.0000e+00,  0.0000e+00,  0.0000e+00,  0.0000e+00,\n",
      "          0.0000e+00,  1.0000e+00,  0.0000e+00],\n",
      "        [ 6.0244e-03,  1.1710e-03,  2.6065e-01,  6.9614e-01,  2.7326e-01,\n",
      "          7.0039e-01,  4.1975e-01,  0.0000e+00,  1.0000e+00,  0.0000e+00,\n",
      "          0.0000e+00,  0.0000e+00,  0.0000e+00,  0.0000e+00,  0.0000e+00,\n",
      "          0.0000e+00,  0.0000e+00,  0.0000e+00,  0.0000e+00,  0.0000e+00,\n",
      "          0.0000e+00,  1.0000e+00,  0.0000e+00],\n",
      "        [-3.4870e-02,  7.4669e-06,  2.8282e-01,  8.6461e-01,  2.9555e-01,\n",
      "          8.6106e-01,  3.7037e-01,  0.0000e+00,  0.0000e+00,  0.0000e+00,\n",
      "          0.0000e+00,  0.0000e+00,  0.0000e+00,  0.0000e+00,  0.0000e+00,\n",
      "          0.0000e+00,  1.0000e+00,  0.0000e+00,  0.0000e+00,  0.0000e+00,\n",
      "          0.0000e+00,  1.0000e+00,  0.0000e+00],\n",
      "        [-9.2000e-02,  2.9472e-04,  3.6438e-01,  6.1606e-01,  3.7250e-01,\n",
      "          6.2035e-01,  2.0988e-01,  0.0000e+00,  0.0000e+00,  0.0000e+00,\n",
      "          0.0000e+00,  0.0000e+00,  0.0000e+00,  0.0000e+00,  0.0000e+00,\n",
      "          1.0000e+00,  0.0000e+00,  0.0000e+00,  0.0000e+00,  0.0000e+00,\n",
      "          0.0000e+00,  1.0000e+00,  0.0000e+00],\n",
      "        [ 1.2582e+01,  1.7394e-04,  1.6399e-01,  6.7716e-01,  1.8354e-01,\n",
      "          6.8271e-01,  4.1975e-01,  0.0000e+00,  0.0000e+00,  0.0000e+00,\n",
      "          0.0000e+00,  0.0000e+00,  0.0000e+00,  0.0000e+00,  0.0000e+00,\n",
      "          0.0000e+00,  0.0000e+00,  0.0000e+00,  0.0000e+00,  1.0000e+00,\n",
      "          0.0000e+00,  0.0000e+00,  1.0000e+00],\n",
      "        [-9.1898e-02,  2.3982e-04,  3.0249e-01,  7.0923e-01,  3.2494e-01,\n",
      "          7.0881e-01,  1.4815e-01,  0.0000e+00,  0.0000e+00,  0.0000e+00,\n",
      "          0.0000e+00,  0.0000e+00,  0.0000e+00,  0.0000e+00,  1.0000e+00,\n",
      "          0.0000e+00,  0.0000e+00,  0.0000e+00,  0.0000e+00,  0.0000e+00,\n",
      "          0.0000e+00,  1.0000e+00,  0.0000e+00]]), Labels:tensor([0., 0., 0., 0., 0., 0., 0., 0., 0., 0., 0., 0., 0., 0., 0., 0., 0., 0., 0., 0., 0., 0., 0., 0.,\n",
      "        0., 0., 0., 0., 0., 0., 0., 0.])\n"
     ]
    }
   ],
   "source": [
    "feature, labels = next(iter(dataloader_test))\n",
    "print(f\"Features: {feature}, Labels:{labels}\")"
   ]
  },
  {
   "cell_type": "code",
   "execution_count": 52,
   "metadata": {},
   "outputs": [],
   "source": [
    "class NeuralNetwork(nn.Module):\n",
    "    def __init__(self):\n",
    "        super(NeuralNetwork, self).__init__()\n",
    "        self.fc1 = nn.Linear(23, 40)\n",
    "        self.fc2 = nn.Linear(40, 60)\n",
    "        self.fc3 = nn.Linear(60, 20)\n",
    "        self.fc4 = nn.Linear(20, 1)\n",
    "\n",
    "    def forward(self, x):\n",
    "        x = nn.functional.relu(self.fc1(x))\n",
    "        x = nn.functional.relu(self.fc2(x))\n",
    "        x = nn.functional.relu(self.fc3(x))\n",
    "        x = nn.functional.sigmoid(self.fc4(x))\n",
    "        return x"
   ]
  },
  {
   "cell_type": "code",
   "execution_count": 53,
   "metadata": {},
   "outputs": [],
   "source": [
    "model = NeuralNetwork()"
   ]
  },
  {
   "cell_type": "code",
   "execution_count": 54,
   "metadata": {},
   "outputs": [
    {
     "data": {
      "text/plain": [
       "NeuralNetwork(\n",
       "  (fc1): Linear(in_features=23, out_features=40, bias=True)\n",
       "  (fc2): Linear(in_features=40, out_features=60, bias=True)\n",
       "  (fc3): Linear(in_features=60, out_features=20, bias=True)\n",
       "  (fc4): Linear(in_features=20, out_features=1, bias=True)\n",
       ")"
      ]
     },
     "execution_count": 54,
     "metadata": {},
     "output_type": "execute_result"
    }
   ],
   "source": [
    "model"
   ]
  },
  {
   "cell_type": "code",
   "execution_count": 55,
   "metadata": {},
   "outputs": [],
   "source": [
    "criterion = nn.BCELoss()\n",
    "optimizer = optim.Adam(model.parameters(), lr=0.01)"
   ]
  },
  {
   "cell_type": "code",
   "execution_count": 56,
   "metadata": {},
   "outputs": [
    {
     "name": "stdout",
     "output_type": "stream",
     "text": [
      "Working on epoch:1/100\n",
      "Working on epoch:2/100\n",
      "Working on epoch:3/100\n",
      "Working on epoch:4/100\n",
      "Working on epoch:5/100\n",
      "Working on epoch:6/100\n",
      "Working on epoch:7/100\n",
      "Working on epoch:8/100\n",
      "Working on epoch:9/100\n",
      "Working on epoch:10/100\n",
      "Working on epoch:11/100\n",
      "Working on epoch:12/100\n",
      "Working on epoch:13/100\n",
      "Working on epoch:14/100\n",
      "Working on epoch:15/100\n",
      "Working on epoch:16/100\n",
      "Working on epoch:17/100\n",
      "Working on epoch:18/100\n",
      "Working on epoch:19/100\n",
      "Working on epoch:20/100\n",
      "Working on epoch:21/100\n",
      "Working on epoch:22/100\n",
      "Working on epoch:23/100\n",
      "Working on epoch:24/100\n",
      "Working on epoch:25/100\n",
      "Working on epoch:26/100\n",
      "Working on epoch:27/100\n",
      "Working on epoch:28/100\n",
      "Working on epoch:29/100\n",
      "Working on epoch:30/100\n",
      "Working on epoch:31/100\n",
      "Working on epoch:32/100\n",
      "Working on epoch:33/100\n",
      "Working on epoch:34/100\n",
      "Working on epoch:35/100\n",
      "Working on epoch:36/100\n",
      "Working on epoch:37/100\n",
      "Working on epoch:38/100\n",
      "Working on epoch:39/100\n",
      "Working on epoch:40/100\n",
      "Working on epoch:41/100\n",
      "Working on epoch:42/100\n",
      "Working on epoch:43/100\n",
      "Working on epoch:44/100\n",
      "Working on epoch:45/100\n",
      "Working on epoch:46/100\n",
      "Working on epoch:47/100\n",
      "Working on epoch:48/100\n",
      "Working on epoch:49/100\n",
      "Working on epoch:50/100\n",
      "Working on epoch:51/100\n",
      "Working on epoch:52/100\n",
      "Working on epoch:53/100\n",
      "Working on epoch:54/100\n",
      "Working on epoch:55/100\n",
      "Working on epoch:56/100\n",
      "Working on epoch:57/100\n",
      "Working on epoch:58/100\n",
      "Working on epoch:59/100\n",
      "Working on epoch:60/100\n",
      "Working on epoch:61/100\n",
      "Working on epoch:62/100\n",
      "Working on epoch:63/100\n",
      "Working on epoch:64/100\n",
      "Working on epoch:65/100\n",
      "Working on epoch:66/100\n",
      "Working on epoch:67/100\n",
      "Working on epoch:68/100\n",
      "Working on epoch:69/100\n",
      "Working on epoch:70/100\n",
      "Working on epoch:71/100\n",
      "Working on epoch:72/100\n",
      "Working on epoch:73/100\n",
      "Working on epoch:74/100\n",
      "Working on epoch:75/100\n",
      "Working on epoch:76/100\n",
      "Working on epoch:77/100\n",
      "Working on epoch:78/100\n",
      "Working on epoch:79/100\n",
      "Working on epoch:80/100\n",
      "Working on epoch:81/100\n",
      "Working on epoch:82/100\n",
      "Working on epoch:83/100\n",
      "Working on epoch:84/100\n",
      "Working on epoch:85/100\n",
      "Working on epoch:86/100\n",
      "Working on epoch:87/100\n",
      "Working on epoch:88/100\n",
      "Working on epoch:89/100\n",
      "Working on epoch:90/100\n",
      "Working on epoch:91/100\n",
      "Working on epoch:92/100\n",
      "Working on epoch:93/100\n",
      "Working on epoch:94/100\n",
      "Working on epoch:95/100\n",
      "Working on epoch:96/100\n",
      "Working on epoch:97/100\n",
      "Working on epoch:98/100\n",
      "Working on epoch:99/100\n",
      "Working on epoch:100/100\n"
     ]
    }
   ],
   "source": [
    "for epoch in range(100):\n",
    "    print(f'Working on epoch:{epoch+1}/100')\n",
    "    for features, labels in dataloader_train:\n",
    "        optimizer.zero_grad()\n",
    "        outputs = model(features)\n",
    "        loss = criterion(outputs, labels.view(-1,1))\n",
    "        loss.backward()\n",
    "        optimizer.step()"
   ]
  },
  {
   "cell_type": "code",
   "execution_count": 57,
   "metadata": {},
   "outputs": [],
   "source": [
    "from torchmetrics.classification import BinaryRecall"
   ]
  },
  {
   "cell_type": "code",
   "execution_count": 58,
   "metadata": {},
   "outputs": [
    {
     "name": "stdout",
     "output_type": "stream",
     "text": [
      "Recall: 0.0\n"
     ]
    }
   ],
   "source": [
    "metric = BinaryRecall()\n",
    "predictions = []\n",
    "model.eval()\n",
    "with torch.no_grad():\n",
    "    for features, labels in dataloader_test:\n",
    "        outputs = model(features)\n",
    "        pred = (outputs >= 0.5).float()\n",
    "        predictions.append(pred)\n",
    "        metric(pred, labels.view(-1,1))\n",
    "\n",
    "recall = metric.compute()\n",
    "print(f'Recall: {recall}')"
   ]
  },
  {
   "cell_type": "markdown",
   "metadata": {},
   "source": [
    "It looks like this model is unable to idenify any fraudluent transactions."
   ]
  },
  {
   "cell_type": "markdown",
   "metadata": {},
   "source": [
    "Let's save the model weights so we can play around the with model more later without retraining."
   ]
  },
  {
   "cell_type": "code",
   "execution_count": 71,
   "metadata": {},
   "outputs": [],
   "source": [
    "torch.save(model.state_dict(), 'model_weights/100_epoch_model_weights.pt')"
   ]
  }
 ],
 "metadata": {
  "kernelspec": {
   "display_name": "lewagon",
   "language": "python",
   "name": "python3"
  },
  "language_info": {
   "codemirror_mode": {
    "name": "ipython",
    "version": 3
   },
   "file_extension": ".py",
   "mimetype": "text/x-python",
   "name": "python",
   "nbconvert_exporter": "python",
   "pygments_lexer": "ipython3",
   "version": "3.10.6"
  }
 },
 "nbformat": 4,
 "nbformat_minor": 2
}
